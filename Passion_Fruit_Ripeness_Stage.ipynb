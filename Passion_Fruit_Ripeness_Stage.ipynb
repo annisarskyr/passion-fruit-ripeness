{
  "nbformat": 4,
  "nbformat_minor": 0,
  "metadata": {
    "colab": {
      "provenance": [],
      "authorship_tag": "ABX9TyMGJhJDPuAR2fg9hv9pQG0N",
      "include_colab_link": true
    },
    "kernelspec": {
      "name": "python3",
      "display_name": "Python 3"
    },
    "language_info": {
      "name": "python"
    }
  },
  "cells": [
    {
      "cell_type": "markdown",
      "metadata": {
        "id": "view-in-github",
        "colab_type": "text"
      },
      "source": [
        "<a href=\"https://colab.research.google.com/github/annisarskyr/passion-fruit-ripeness/blob/main/Passion_Fruit_Ripeness_Stage.ipynb\" target=\"_parent\"><img src=\"https://colab.research.google.com/assets/colab-badge.svg\" alt=\"Open In Colab\"/></a>"
      ]
    },
    {
      "cell_type": "markdown",
      "source": [
        "#**Klasifikasi Kematangan Buah Markisa**"
      ],
      "metadata": {
        "id": "M69SOj7rwI-1"
      }
    },
    {
      "cell_type": "markdown",
      "source": [
        "# Mengambil Dataset dari Github"
      ],
      "metadata": {
        "id": "CNdm-r2WwmlH"
      }
    },
    {
      "cell_type": "code",
      "source": [
        "!apt-get install subversion > /dev/null"
      ],
      "metadata": {
        "id": "27Hs2eHswtzz"
      },
      "execution_count": null,
      "outputs": []
    },
    {
      "cell_type": "code",
      "source": [
        "!svn export https://github.com/annisarskyr/passion-fruit-ripeness/trunk/data_nf> /dev/null"
      ],
      "metadata": {
        "colab": {
          "base_uri": "https://localhost:8080/"
        },
        "id": "3VjZfpzew8JE",
        "outputId": "575df058-1d89-4756-deb1-9f7905931dd6"
      },
      "execution_count": null,
      "outputs": [
        {
          "output_type": "stream",
          "name": "stdout",
          "text": [
            "svn: E170013: Unable to connect to a repository at URL 'https://github.com/annisarskyr/passion-fruit-ripeness/trunk/data_nf'\n",
            "svn: E160013: '/annisarskyr/passion-fruit-ripeness/trunk/data_nf' path not found\n"
          ]
        }
      ]
    }
  ]
}